{
 "cells": [
  {
   "cell_type": "markdown",
   "metadata": {},
   "source": [
    "Write a program to execute Semantic Segmentation."
   ]
  },
  {
   "cell_type": "code",
   "execution_count": 1,
   "metadata": {},
   "outputs": [
    {
     "name": "stdout",
     "output_type": "stream",
     "text": [
      "No images found in the specified folder.\n"
     ]
    },
    {
     "ename": "",
     "evalue": "",
     "output_type": "error",
     "traceback": [
      "\u001b[1;31mThe Kernel crashed while executing code in the current cell or a previous cell. \n",
      "\u001b[1;31mPlease review the code in the cell(s) to identify a possible cause of the failure. \n",
      "\u001b[1;31mClick <a href='https://aka.ms/vscodeJupyterKernelCrash'>here</a> for more info. \n",
      "\u001b[1;31mView Jupyter <a href='command:jupyter.viewOutput'>log</a> for further details."
     ]
    }
   ],
   "source": [
    "import cv2 as cv\n",
    "import os\n",
    "import glob\n",
    "import numpy as np\n",
    "import matplotlib.pyplot as plt\n",
    "\n",
    "def load_images(folder_path):\n",
    "    \"\"\"Load images from a folder.\"\"\"\n",
    "    image_files = glob.glob(os.path.join(folder_path, '*.jpeg'))\n",
    "    images = [cv.imread(image_path) for image_path in image_files]\n",
    "    return images\n",
    "\n",
    "def semantic_segmentation(images, num_clusters=3):\n",
    "    \"\"\"Perform semantic segmentation using K-means clustering.\"\"\"\n",
    "    segmented_images = []\n",
    "    criteria = (cv.TERM_CRITERIA_EPS + cv.TERM_CRITERIA_MAX_ITER, 100, 0.2)\n",
    "    for img in images:\n",
    "        pixels = img.reshape((-1, 3))\n",
    "        pixels = np.float32(pixels)\n",
    "        _, labels, centers = cv.kmeans(pixels, num_clusters, None, criteria, 10, cv.KMEANS_RANDOM_CENTERS)\n",
    "        centers = np.uint8(centers)\n",
    "        segmented_img = centers[labels.flatten()].reshape(img.shape)\n",
    "        segmented_images.append(segmented_img)\n",
    "    return segmented_images\n",
    "\n",
    "# Load images\n",
    "folder_path = r\"C:\\Users\\Win-10\\OneDrive\\Desktop\\Lab_3.2\\body\"\n",
    "images = load_images(folder_path)\n",
    "\n",
    "# Check if images were loaded correctly\n",
    "if len(images) == 0:\n",
    "    print(\"No images found in the specified folder.\")\n",
    "    exit()\n",
    "\n",
    "# Perform segmentation\n",
    "semantic_segmented_images = semantic_segmentation(images)\n",
    "\n",
    "# Display results\n",
    "for i in range(min(3, len(images))): # Ensure we don't go out of range if less than 3 images were loaded\n",
    "    plt.figure(figsize=(15, 5))\n",
    "    plt.subplot(1, 2, 1)\n",
    "    plt.imshow(cv.cvtColor(images[i], cv.COLOR_BGR2RGB))\n",
    "    plt.title('Original Image')\n",
    "    plt.axis('off')\n",
    "    plt.subplot(1, 2, 2)\n",
    "    plt.imshow(cv.cvtColor(semantic_segmented_images[i], cv.COLOR_BGR2RGB))\n",
    "    plt.title('Semantic Segmentation')\n",
    "    plt.axis('off')\n",
    "\n",
    "plt.show()\n"
   ]
  }
 ],
 "metadata": {
  "kernelspec": {
   "display_name": "Python 3",
   "language": "python",
   "name": "python3"
  },
  "language_info": {
   "codemirror_mode": {
    "name": "ipython",
    "version": 3
   },
   "file_extension": ".py",
   "mimetype": "text/x-python",
   "name": "python",
   "nbconvert_exporter": "python",
   "pygments_lexer": "ipython3",
   "version": "3.10.6"
  }
 },
 "nbformat": 4,
 "nbformat_minor": 2
}
